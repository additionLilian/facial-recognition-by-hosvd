{
 "cells": [
  {
   "cell_type": "code",
   "execution_count": 2,
   "metadata": {},
   "outputs": [],
   "source": [
    "import numpy as np\n",
    "import glob\n",
    "import matplotlib.image as mping\n",
    "from skimage import color\n",
    "from skimage import io\n",
    "from skimage.transform import resize\n",
    "import matplotlib.pyplot as plt\n",
    "from PIL import Image\n",
    "import cv2 \n",
    "import tensorly as tl\n",
    "from sklearn import decomposition\n",
    "import sklearn\n",
    "import pandas as pd\n",
    "from tensorly import tenalg\n",
    "import dlib\n",
    "from scipy import misc\n",
    "import face_recognition as fr"
   ]
  },
  {
   "cell_type": "code",
   "execution_count": 237,
   "metadata": {},
   "outputs": [],
   "source": [
    "import time as t"
   ]
  },
  {
   "cell_type": "code",
   "execution_count": 245,
   "metadata": {},
   "outputs": [
    {
     "data": {
      "text/plain": [
       "[array([-6.24990510e-03,  5.63477315e-02,  4.66854125e-02, -6.06191158e-02,\n",
       "        -1.29656289e-02, -1.81968175e-02, -5.28089814e-02, -2.14098543e-02,\n",
       "         1.48657545e-01, -4.75185737e-03,  9.80286151e-02, -4.38371822e-02,\n",
       "        -2.12645531e-01,  3.16681974e-02,  2.51315273e-02,  9.38007012e-02,\n",
       "        -2.00694144e-01, -4.81643453e-02, -9.66460183e-02, -1.47039413e-01,\n",
       "         2.47631874e-02,  9.43197012e-02,  1.83606986e-02, -1.23079005e-03,\n",
       "        -1.63009167e-01, -1.96283013e-01, -4.23157103e-02, -1.18735425e-01,\n",
       "         1.40943574e-02, -8.28492194e-02,  2.69595161e-02, -6.26954064e-03,\n",
       "        -2.12229893e-01, -5.34686111e-02,  4.06264141e-02,  3.46873477e-02,\n",
       "        -3.87523621e-02, -3.01235355e-02,  1.26734257e-01,  2.32846327e-02,\n",
       "        -8.20084512e-02,  3.82746607e-02,  8.84274095e-02,  2.47752622e-01,\n",
       "         1.69101268e-01,  6.82685748e-02, -4.04021442e-02, -3.59784774e-02,\n",
       "         1.43957511e-01, -3.00891757e-01,  1.67234227e-01,  8.90255347e-02,\n",
       "         1.43081561e-01,  8.50673690e-02,  1.75868079e-01, -1.88506871e-01,\n",
       "        -4.27902676e-03,  1.64132401e-01, -1.41713530e-01,  1.68919101e-01,\n",
       "         5.45792431e-02, -3.05889174e-04,  1.23506822e-02, -8.77377242e-02,\n",
       "         1.63513318e-01,  6.05662316e-02, -1.02197923e-01, -7.98384249e-02,\n",
       "         8.08765069e-02, -6.59493431e-02, -7.64437914e-02,  1.92351192e-02,\n",
       "        -7.36424401e-02, -1.39018565e-01, -3.68399292e-01,  5.15884534e-02,\n",
       "         2.77139187e-01,  9.01064053e-02, -1.99824676e-01,  1.27400924e-02,\n",
       "        -2.33669914e-02,  4.35128063e-03,  9.20154713e-03,  7.09048845e-03,\n",
       "        -9.41587463e-02, -2.50769258e-02, -4.90175970e-02,  3.89452614e-02,\n",
       "         1.55984908e-01, -5.87633178e-02, -4.11221758e-02,  1.65406898e-01,\n",
       "        -6.63259849e-02, -4.09149639e-02, -4.11147736e-02,  2.86413413e-02,\n",
       "        -1.55871511e-01, -4.70874012e-02, -1.47530735e-01, -3.35323326e-02,\n",
       "         5.24759553e-02, -9.41064656e-02, -3.96638773e-02,  1.46743596e-01,\n",
       "        -2.44044691e-01,  1.28548816e-01,  8.11243802e-03, -1.13108188e-01,\n",
       "        -4.35861386e-02,  5.68168871e-02, -1.22810178e-01,  1.44111058e-02,\n",
       "         1.76506326e-01, -2.57022738e-01,  2.23109573e-01,  1.82611421e-01,\n",
       "         5.11471881e-03,  1.29701555e-01, -2.34120078e-02,  4.93461043e-02,\n",
       "        -1.45742670e-02,  7.56874084e-02, -1.25423729e-01, -1.17544949e-01,\n",
       "         1.68477874e-02,  4.22278158e-02, -2.10087150e-02,  1.07138105e-01])]"
      ]
     },
     "execution_count": 245,
     "metadata": {},
     "output_type": "execute_result"
    }
   ],
   "source": [
    "fr.api.face_encodings(MyimageList[1])"
   ]
  },
  {
   "cell_type": "code",
   "execution_count": 248,
   "metadata": {},
   "outputs": [],
   "source": [
    "# get the list of allthe images in the folder\n",
    "# get the face vectors of the images in the folder\n",
    "start1 = t.time()\n",
    "\n",
    "MyimageList = []\n",
    "NameLabelList_in_letter = []\n",
    "ExpressionList_in_letter = []\n",
    "face_feature_list = []\n",
    "for image_path in glob.glob(\"EX1/*.png\"):\n",
    "    image = cv2.imread(image_path)\n",
    "    image_labels_in_letter = image_path.split(\"/\")[-1][:-4].split('-')\n",
    "    get = fr.api.face_encodings(image)\n",
    "    MyimageList.append(image)\n",
    "    face_feature_list.append(get)\n",
    "    NameLabelList_in_letter.append(image_labels_in_letter[0])\n",
    "    ExpressionList_in_letter.append(image_labels_in_letter[-1])\n",
    "\n",
    "end1 = t.time()\n",
    "exec_time1 = end1 - start1"
   ]
  },
  {
   "cell_type": "code",
   "execution_count": 249,
   "metadata": {},
   "outputs": [
    {
     "data": {
      "text/plain": [
       "1093"
      ]
     },
     "execution_count": 249,
     "metadata": {},
     "output_type": "execute_result"
    }
   ],
   "source": [
    "len(face_feature_list)"
   ]
  },
  {
   "cell_type": "code",
   "execution_count": 250,
   "metadata": {},
   "outputs": [
    {
     "data": {
      "text/plain": [
       "1093"
      ]
     },
     "execution_count": 250,
     "metadata": {},
     "output_type": "execute_result"
    }
   ],
   "source": [
    "len(MyimageList)"
   ]
  },
  {
   "cell_type": "code",
   "execution_count": 251,
   "metadata": {},
   "outputs": [
    {
     "data": {
      "text/plain": [
       "504.72930216789246"
      ]
     },
     "execution_count": 251,
     "metadata": {},
     "output_type": "execute_result"
    }
   ],
   "source": [
    "exec_time1"
   ]
  },
  {
   "cell_type": "code",
   "execution_count": 243,
   "metadata": {},
   "outputs": [
    {
     "data": {
      "text/plain": [
       "(512, 352, 3)"
      ]
     },
     "execution_count": 243,
     "metadata": {},
     "output_type": "execute_result"
    }
   ],
   "source": [
    "MyimageList[0].shape"
   ]
  },
  {
   "cell_type": "code",
   "execution_count": 96,
   "metadata": {},
   "outputs": [],
   "source": [
    "img_height = MyimageList[0].shape[0]\n",
    "img_width = MyimageList[0].shape[1]\n",
    "image_size = img_height*img_width"
   ]
  },
  {
   "cell_type": "code",
   "execution_count": 97,
   "metadata": {},
   "outputs": [
    {
     "data": {
      "text/plain": [
       "180224"
      ]
     },
     "execution_count": 97,
     "metadata": {},
     "output_type": "execute_result"
    }
   ],
   "source": [
    "image_size"
   ]
  },
  {
   "cell_type": "code",
   "execution_count": 194,
   "metadata": {},
   "outputs": [],
   "source": [
    "# split the list of all the images into two sets: trainset and test set. \n",
    "# with ratio 0.8:0.2\n",
    "\n",
    "splitlist = list(range(len(MyimageList)))\n",
    "np.random.shuffle(splitlist)\n",
    "trainsize = int(len(MyimageList)*0.8)\n",
    "testsize = len(MyimageList)-trainsize\n",
    "trainsetindex,testsetindex = sklearn.model_selection.train_test_split(splitlist,train_size = trainsize,test_size = testsize)\n",
    "trainset = []\n",
    "testset = []\n",
    "name_in_train = []\n",
    "name_in_test = []\n",
    "expression_in_train = []\n",
    "train_image = []\n",
    "test_image = []\n",
    "for i in trainsetindex:\n",
    "    trainset.append(face_feature_list[i])\n",
    "    name_in_train.append(NameLabelList_in_letter[i])\n",
    "    expression_in_train.append(ExpressionList_in_letter[i])\n",
    "    train_image.append(MyimageList[i])\n",
    "for j in testsetindex:\n",
    "    testset.append(face_feature_list[j].T)\n",
    "    test_image.append(MyimageList[j])\n",
    "    name_in_test.append(NameLabelList_in_letter[j])"
   ]
  },
  {
   "cell_type": "code",
   "execution_count": 201,
   "metadata": {},
   "outputs": [
    {
     "data": {
      "text/plain": [
       "'yakov'"
      ]
     },
     "execution_count": 201,
     "metadata": {},
     "output_type": "execute_result"
    }
   ],
   "source": [
    "name_in_test[0]"
   ]
  },
  {
   "cell_type": "code",
   "execution_count": 202,
   "metadata": {},
   "outputs": [
    {
     "data": {
      "text/plain": [
       "<matplotlib.image.AxesImage at 0x7f570c7d4a60>"
      ]
     },
     "execution_count": 202,
     "metadata": {},
     "output_type": "execute_result"
    },
    {
     "data": {
      "image/png": "[encoded data removed]",
      "text/plain": [
       "<Figure size 432x288 with 1 Axes>"
      ]
     },
     "metadata": {
      "needs_background": "light"
     },
     "output_type": "display_data"
    }
   ],
   "source": [
    "plt.imshow(test_image[0])"
   ]
  },
  {
   "cell_type": "code",
   "execution_count": 124,
   "metadata": {},
   "outputs": [
    {
     "data": {
      "text/plain": [
       "(816, 205)"
      ]
     },
     "execution_count": 124,
     "metadata": {},
     "output_type": "execute_result"
    }
   ],
   "source": [
    "# check the lenth of the trainset and the testset\n",
    "len(trainset),len(testset)"
   ]
  },
  {
   "cell_type": "code",
   "execution_count": 125,
   "metadata": {},
   "outputs": [],
   "source": [
    "def what_is_unique(list):\n",
    "    unique_list = []\n",
    "    for x in list:\n",
    "        if x not in unique_list:\n",
    "            unique_list.append(x)\n",
    "    return unique_list\n",
    "\n",
    "name_list_train = what_is_unique(name_in_train)\n",
    "expression_list_train = what_is_unique(expression_in_train)\n",
    "\n"
   ]
  },
  {
   "cell_type": "code",
   "execution_count": 126,
   "metadata": {},
   "outputs": [
    {
     "data": {
      "text/plain": [
       "(28, 3)"
      ]
     },
     "execution_count": 126,
     "metadata": {},
     "output_type": "execute_result"
    }
   ],
   "source": [
    "len(name_list_train),len(expression_list_train)"
   ]
  },
  {
   "cell_type": "code",
   "execution_count": 192,
   "metadata": {},
   "outputs": [],
   "source": [
    "def letter_to_index(letterlist,labellist):\n",
    "    list_of_index = [labellist.index(letter) for letter in letterlist]\n",
    "    return list_of_index\n",
    "# get the list of labels in the form of index.\n",
    "NameLabelList_in_number = letter_to_index(name_in_train,name_list_train)\n",
    "ExpressionLabelList_in_number = letter_to_index(expression_in_train,expression_list_train)"
   ]
  },
  {
   "cell_type": "code",
   "execution_count": null,
   "metadata": {},
   "outputs": [],
   "source": []
  },
  {
   "cell_type": "code",
   "execution_count": 129,
   "metadata": {},
   "outputs": [
    {
     "data": {
      "text/plain": [
       "(28, 3, 816, 128)"
      ]
     },
     "execution_count": 129,
     "metadata": {},
     "output_type": "execute_result"
    }
   ],
   "source": [
    "names = len(name_list_train)\n",
    "expressions = len(expression_list_train)\n",
    "imagenumber = len(trainset)\n",
    "len_feature = trainset[1].shape[1]\n",
    "names,expressions,imagenumber,len_feature"
   ]
  },
  {
   "cell_type": "code",
   "execution_count": 130,
   "metadata": {},
   "outputs": [
    {
     "data": {
      "text/plain": [
       "(28, 3, 128)"
      ]
     },
     "execution_count": 130,
     "metadata": {},
     "output_type": "execute_result"
    }
   ],
   "source": [
    "mymatrix = np.zeros((names,expressions,len_feature))\n",
    "mymatrix.shape"
   ]
  },
  {
   "cell_type": "code",
   "execution_count": 131,
   "metadata": {},
   "outputs": [],
   "source": [
    "# dont need this one!!!\n",
    "vectorized_image_list = []\n",
    "for i in trainset:\n",
    "    vectorized_image_list.append(i.reshape(-1))"
   ]
  },
  {
   "cell_type": "code",
   "execution_count": 144,
   "metadata": {},
   "outputs": [],
   "source": [
    "def average_value(input_name,input_expression):\n",
    "    value = np.zeros(len_feature)\n",
    "    count = 0\n",
    "    for index in range(imagenumber):\n",
    "        if NameLabelList_in_number[index] == input_name:\n",
    "            if ExpressionLabelList_in_number[index]==input_expression:\n",
    "                value += trainset[index].T.reshape(-1)\n",
    "                count+=1\n",
    "    return value/count"
   ]
  },
  {
   "cell_type": "code",
   "execution_count": 159,
   "metadata": {},
   "outputs": [
    {
     "data": {
      "text/plain": [
       "array([-3.44929248e-02,  1.28142938e-01,  6.89581931e-02, -9.13930759e-02,\n",
       "       -1.87350154e-01, -2.26970576e-02, -6.35757521e-02, -8.53975564e-02,\n",
       "        8.26978832e-02, -2.87693590e-02,  2.05580965e-01, -6.08482324e-02,\n",
       "       -1.38157040e-01, -4.35431227e-02, -3.34018320e-02,  1.28540173e-01,\n",
       "       -2.13894024e-01, -1.43873423e-01, -9.90464166e-02, -8.10357481e-02,\n",
       "       -2.22832896e-05, -1.58331136e-03, -7.04271123e-02,  5.19731781e-03,\n",
       "       -1.39711574e-01, -2.80967474e-01, -1.21867917e-02, -1.51742250e-01,\n",
       "        1.42406017e-01, -9.28507373e-02, -4.30658348e-02,  1.81843154e-02,\n",
       "       -1.45273328e-01, -6.28233254e-02,  4.55754288e-02,  7.42728338e-02,\n",
       "       -9.32809711e-02, -3.56891006e-02,  1.86739042e-01, -1.45107945e-02,\n",
       "       -2.04315260e-01,  7.22102374e-02,  7.16424957e-02,  2.41690680e-01,\n",
       "        1.92376986e-01,  2.17467397e-02,  5.92639670e-02, -5.56660704e-02,\n",
       "        1.50445491e-01, -2.18113691e-01,  9.98138115e-02,  1.48264825e-01,\n",
       "        2.29506344e-01,  1.07782587e-01,  1.00542255e-01, -1.96286276e-01,\n",
       "        4.21078801e-02,  1.82588845e-01, -2.15459555e-01,  1.44951895e-01,\n",
       "        1.12452872e-01, -9.71521512e-02, -3.02037299e-02, -3.05762179e-02,\n",
       "        1.96743906e-01,  8.72464925e-02, -7.05046654e-02, -1.20837986e-01,\n",
       "        2.42794260e-01, -6.79767579e-02, -7.06337094e-02,  5.12999222e-02,\n",
       "       -6.36328012e-02, -1.37840182e-01, -2.05880791e-01,  6.64717257e-02,\n",
       "        3.72315496e-01,  1.23086125e-01, -2.59833634e-01, -5.95084876e-02,\n",
       "       -2.55007893e-02, -3.69387753e-02,  5.86236306e-02,  2.19639316e-02,\n",
       "       -1.02474645e-01, -1.08451292e-01, -9.97007564e-02, -9.26310290e-03,\n",
       "        1.67706236e-01, -6.44778758e-02,  8.35719109e-02,  1.55544609e-01,\n",
       "        4.17346396e-02, -3.35322097e-02,  7.01352535e-03,  5.35650104e-02,\n",
       "       -1.59304157e-01,  7.06242919e-02, -6.70685023e-02, -1.16630206e-02,\n",
       "        8.22179168e-02, -1.86153501e-01, -1.36787333e-02,  1.17517710e-01,\n",
       "       -2.05172732e-01,  1.80957407e-01, -1.55922677e-02, -3.11860219e-02,\n",
       "       -3.40470448e-02,  4.97735804e-04,  2.44235490e-02, -1.97566040e-02,\n",
       "        2.11104944e-01, -2.17915997e-01,  2.70614117e-01,  2.28421971e-01,\n",
       "        2.38089673e-02,  1.24907412e-01,  3.08876671e-02,  3.22313420e-02,\n",
       "        3.56604308e-02, -7.16022998e-02, -1.92138165e-01, -1.10853419e-01,\n",
       "       -6.87332638e-03, -1.03684105e-01, -6.49429113e-02,  9.04321596e-02])"
      ]
     },
     "execution_count": 159,
     "metadata": {},
     "output_type": "execute_result"
    }
   ],
   "source": []
  },
  {
   "cell_type": "code",
   "execution_count": 153,
   "metadata": {},
   "outputs": [
    {
     "name": "stderr",
     "output_type": "stream",
     "text": [
      "<ipython-input-144-dabbe406a315>:9: RuntimeWarning: invalid value encountered in true_divide\n",
      "  return value/count\n"
     ]
    }
   ],
   "source": [
    "for i in range(names):\n",
    "    for j in range(expressions):\n",
    "        mymatrix[i][j] = average_value(i,j) "
   ]
  },
  {
   "cell_type": "code",
   "execution_count": 160,
   "metadata": {},
   "outputs": [],
   "source": [
    "myMatrix = np.nan_to_num(mymatrix,nan = np.average(average_value(1,1)))"
   ]
  },
  {
   "cell_type": "code",
   "execution_count": 161,
   "metadata": {},
   "outputs": [],
   "source": [
    "def hosvd(T):\n",
    "    T_u1 = tl.unfold(T, mode=0)\n",
    "    #print(\"\\nSize of first Mode-Unfolding:\\n\",np.shape(T_u1))\n",
    "\n",
    "    # mode-2 unfolding\n",
    "    T_u2 = tl.unfold(T, mode=1)\n",
    "    #print(\"\\nSize of second Mode-Unfolding:\\n\",np.shape(T_u2))\n",
    "\n",
    "    # mode-3 unfolding\n",
    "    T_u3 = tl.unfold(T, mode=2)\n",
    "    #print(\"\\nSize of third Mode-Unfolding:\\n\",np.shape(T_u3))\n",
    "\n",
    "    # Specify the multilinear ranks\n",
    "    multilinear_ranks = np.array([28,3,600])\n",
    "    #print(\"\\n(R_1,R_2,R_3):\",multilinear_ranks)\n",
    "\n",
    "    # Calculate the factor matrices using the SVD and\n",
    "    # truncate the singular vectors with the value of the corresponding rank\n",
    "    A, S1, V1 = np.linalg.svd(T_u1, full_matrices=False)\n",
    "    A = A[:,0:multilinear_ranks[0]]\n",
    "    B, S2, V2 = np.linalg.svd(T_u2, full_matrices=False)\n",
    "    B = B[:,0:multilinear_ranks[1]]\n",
    "    C, S3, V3 = np.linalg.svd(T_u3, full_matrices=False)\n",
    "    C = C[:,0:multilinear_ranks[2]]\n",
    "\n",
    "    # Compute the core tensor using the contraction operator (mode-product)\n",
    "    D = tl.tenalg.multi_mode_dot(T, [np.transpose(A), np.transpose(B), np.transpose(C)])\n",
    "    return D,A,B,C"
   ]
  },
  {
   "cell_type": "code",
   "execution_count": 162,
   "metadata": {},
   "outputs": [],
   "source": [
    "myM = np.nan_to_num(mymatrix,nan = 100)"
   ]
  },
  {
   "cell_type": "code",
   "execution_count": 163,
   "metadata": {},
   "outputs": [],
   "source": [
    "core_tensor = hosvd(myM)[0]\n",
    "U_person = hosvd(myM)[1]\n",
    "U_expression = hosvd(myM)[2]\n",
    "U_feature = hosvd(myM)[3]"
   ]
  },
  {
   "cell_type": "code",
   "execution_count": 164,
   "metadata": {},
   "outputs": [
    {
     "data": {
      "text/plain": [
       "((28, 3, 84), (28, 28), (3, 3), (128, 84))"
      ]
     },
     "execution_count": 164,
     "metadata": {},
     "output_type": "execute_result"
    }
   ],
   "source": [
    "core_tensor.shape,U_person.shape,U_expression.shape,U_feature.shape"
   ]
  },
  {
   "cell_type": "code",
   "execution_count": 165,
   "metadata": {},
   "outputs": [
    {
     "data": {
      "text/plain": [
       "4.152662161465652e-12"
      ]
     },
     "execution_count": 165,
     "metadata": {},
     "output_type": "execute_result"
    }
   ],
   "source": [
    "t1 = tenalg.mode_dot(core_tensor,U_person,0)\n",
    "t2 = tenalg.mode_dot(t1,U_expression,1)\n",
    "t3 = tenalg.mode_dot(t2,U_feature,2)\n",
    "np.linalg.norm(t3-myM)"
   ]
  },
  {
   "cell_type": "code",
   "execution_count": null,
   "metadata": {},
   "outputs": [],
   "source": []
  },
  {
   "cell_type": "code",
   "execution_count": 166,
   "metadata": {},
   "outputs": [],
   "source": [
    "e1 = tenalg.mode_dot(core_tensor,U_expression,1)\n",
    "e2 = tenalg.mode_dot(e1,U_feature,2)\n",
    "e3 = np.moveaxis(e2,0,1)"
   ]
  },
  {
   "cell_type": "code",
   "execution_count": 253,
   "metadata": {},
   "outputs": [
    {
     "data": {
      "text/plain": [
       "(28, 128)"
      ]
     },
     "execution_count": 253,
     "metadata": {},
     "output_type": "execute_result"
    }
   ],
   "source": [
    "e3[0].shape"
   ]
  },
  {
   "cell_type": "code",
   "execution_count": 171,
   "metadata": {},
   "outputs": [],
   "source": [
    "def getpersonvector(i):\n",
    "    testtensor = np.zeros((1,1,128))\n",
    "    testtensor[0][0]=testset[i].reshape(-1)\n",
    "    uf1 = tl.unfold(testtensor,0)\n",
    "    uf2 = np.linalg.pinv(tl.unfold(e3[1][:],0))\n",
    "    person_t = np.matmul(uf1,uf2).T\n",
    "    return person_t"
   ]
  },
  {
   "cell_type": "code",
   "execution_count": 172,
   "metadata": {},
   "outputs": [],
   "source": [
    "def U_person_vector(person):\n",
    "    return U_person[person].reshape(28,-1)"
   ]
  },
  {
   "cell_type": "code",
   "execution_count": 173,
   "metadata": {},
   "outputs": [],
   "source": [
    "def get_index(index_in_test):\n",
    "    return np.argmin([np.linalg.norm(getpersonvector(index_in_test)-U_person_vector(i)) for i in range(28)])"
   ]
  },
  {
   "cell_type": "code",
   "execution_count": 263,
   "metadata": {},
   "outputs": [
    {
     "data": {
      "text/plain": [
       "<matplotlib.image.AxesImage at 0x7f56867c5fa0>"
      ]
     },
     "execution_count": 263,
     "metadata": {},
     "output_type": "execute_result"
    },
    {
     "data": {
      "image/png": "[encoded data removed]",
      "text/plain": [
       "<Figure size 432x288 with 1 Axes>"
      ]
     },
     "metadata": {
      "needs_background": "light"
     },
     "output_type": "display_data"
    }
   ],
   "source": [
    "plt.imshow(train_image[get_index(14)])"
   ]
  },
  {
   "cell_type": "code",
   "execution_count": 264,
   "metadata": {},
   "outputs": [
    {
     "data": {
      "text/plain": [
       "<matplotlib.image.AxesImage at 0x7f570cb0fc40>"
      ]
     },
     "execution_count": 264,
     "metadata": {},
     "output_type": "execute_result"
    },
    {
     "data": {
      "image/png": "[encoded data removed]",
      "text/plain": [
       "<Figure size 432x288 with 1 Axes>"
      ]
     },
     "metadata": {
      "needs_background": "light"
     },
     "output_type": "display_data"
    }
   ],
   "source": [
    "plt.imshow(test_image[14])"
   ]
  },
  {
   "cell_type": "code",
   "execution_count": 213,
   "metadata": {},
   "outputs": [],
   "source": [
    "labels = pd.DataFrame(name_list_train)\n",
    "pred = [get_index(i) for i in range(len(test_image))]"
   ]
  },
  {
   "cell_type": "code",
   "execution_count": 220,
   "metadata": {},
   "outputs": [
    {
     "data": {
      "text/html": [
       "<div>\n",
       "<style scoped>\n",
       "    .dataframe tbody tr th:only-of-type {\n",
       "        vertical-align: middle;\n",
       "    }\n",
       "\n",
       "    .dataframe tbody tr th {\n",
       "        vertical-align: top;\n",
       "    }\n",
       "\n",
       "    .dataframe thead th {\n",
       "        text-align: right;\n",
       "    }\n",
       "</style>\n",
       "<table border=\"1\" class=\"dataframe\">\n",
       "  <thead>\n",
       "    <tr style=\"text-align: right;\">\n",
       "      <th></th>\n",
       "      <th>0</th>\n",
       "    </tr>\n",
       "  </thead>\n",
       "  <tbody>\n",
       "    <tr>\n",
       "      <th>0</th>\n",
       "      <td>yakov</td>\n",
       "    </tr>\n",
       "    <tr>\n",
       "      <th>1</th>\n",
       "      <td>moshe1</td>\n",
       "    </tr>\n",
       "    <tr>\n",
       "      <th>2</th>\n",
       "      <td>moshe1</td>\n",
       "    </tr>\n",
       "    <tr>\n",
       "      <th>3</th>\n",
       "      <td>amir1</td>\n",
       "    </tr>\n",
       "    <tr>\n",
       "      <th>4</th>\n",
       "      <td>avishai</td>\n",
       "    </tr>\n",
       "    <tr>\n",
       "      <th>...</th>\n",
       "      <td>...</td>\n",
       "    </tr>\n",
       "    <tr>\n",
       "      <th>200</th>\n",
       "      <td>shabtai</td>\n",
       "    </tr>\n",
       "    <tr>\n",
       "      <th>201</th>\n",
       "      <td>bruno</td>\n",
       "    </tr>\n",
       "    <tr>\n",
       "      <th>202</th>\n",
       "      <td>edelman</td>\n",
       "    </tr>\n",
       "    <tr>\n",
       "      <th>203</th>\n",
       "      <td>menashe</td>\n",
       "    </tr>\n",
       "    <tr>\n",
       "      <th>204</th>\n",
       "      <td>amit</td>\n",
       "    </tr>\n",
       "  </tbody>\n",
       "</table>\n",
       "<p>205 rows × 1 columns</p>\n",
       "</div>"
      ],
      "text/plain": [
       "           0\n",
       "0      yakov\n",
       "1     moshe1\n",
       "2     moshe1\n",
       "3      amir1\n",
       "4    avishai\n",
       "..       ...\n",
       "200  shabtai\n",
       "201    bruno\n",
       "202  edelman\n",
       "203  menashe\n",
       "204     amit\n",
       "\n",
       "[205 rows x 1 columns]"
      ]
     },
     "execution_count": 220,
     "metadata": {},
     "output_type": "execute_result"
    }
   ],
   "source": [
    "test_label = pd.DataFrame(name_in_test)\n",
    "test_label"
   ]
  },
  {
   "cell_type": "code",
   "execution_count": 221,
   "metadata": {},
   "outputs": [
    {
     "data": {
      "text/html": [
       "<div>\n",
       "<style scoped>\n",
       "    .dataframe tbody tr th:only-of-type {\n",
       "        vertical-align: middle;\n",
       "    }\n",
       "\n",
       "    .dataframe tbody tr th {\n",
       "        vertical-align: top;\n",
       "    }\n",
       "\n",
       "    .dataframe thead th {\n",
       "        text-align: right;\n",
       "    }\n",
       "</style>\n",
       "<table border=\"1\" class=\"dataframe\">\n",
       "  <thead>\n",
       "    <tr style=\"text-align: right;\">\n",
       "      <th></th>\n",
       "      <th>0</th>\n",
       "    </tr>\n",
       "  </thead>\n",
       "  <tbody>\n",
       "    <tr>\n",
       "      <th>4</th>\n",
       "      <td>yakov</td>\n",
       "    </tr>\n",
       "    <tr>\n",
       "      <th>20</th>\n",
       "      <td>moshe1</td>\n",
       "    </tr>\n",
       "    <tr>\n",
       "      <th>20</th>\n",
       "      <td>moshe1</td>\n",
       "    </tr>\n",
       "    <tr>\n",
       "      <th>10</th>\n",
       "      <td>amir1</td>\n",
       "    </tr>\n",
       "    <tr>\n",
       "      <th>1</th>\n",
       "      <td>avishai</td>\n",
       "    </tr>\n",
       "    <tr>\n",
       "      <th>...</th>\n",
       "      <td>...</td>\n",
       "    </tr>\n",
       "    <tr>\n",
       "      <th>9</th>\n",
       "      <td>shabtai</td>\n",
       "    </tr>\n",
       "    <tr>\n",
       "      <th>16</th>\n",
       "      <td>bruno</td>\n",
       "    </tr>\n",
       "    <tr>\n",
       "      <th>0</th>\n",
       "      <td>edelman</td>\n",
       "    </tr>\n",
       "    <tr>\n",
       "      <th>7</th>\n",
       "      <td>menashe</td>\n",
       "    </tr>\n",
       "    <tr>\n",
       "      <th>6</th>\n",
       "      <td>amit</td>\n",
       "    </tr>\n",
       "  </tbody>\n",
       "</table>\n",
       "<p>205 rows × 1 columns</p>\n",
       "</div>"
      ],
      "text/plain": [
       "          0\n",
       "4     yakov\n",
       "20   moshe1\n",
       "20   moshe1\n",
       "10    amir1\n",
       "1   avishai\n",
       "..      ...\n",
       "9   shabtai\n",
       "16    bruno\n",
       "0   edelman\n",
       "7   menashe\n",
       "6      amit\n",
       "\n",
       "[205 rows x 1 columns]"
      ]
     },
     "execution_count": 221,
     "metadata": {},
     "output_type": "execute_result"
    }
   ],
   "source": [
    "labels.iloc[pred]"
   ]
  },
  {
   "cell_type": "code",
   "execution_count": null,
   "metadata": {},
   "outputs": [],
   "source": []
  },
  {
   "cell_type": "code",
   "execution_count": 225,
   "metadata": {},
   "outputs": [
    {
     "data": {
      "text/html": [
       "<div>\n",
       "<style scoped>\n",
       "    .dataframe tbody tr th:only-of-type {\n",
       "        vertical-align: middle;\n",
       "    }\n",
       "\n",
       "    .dataframe tbody tr th {\n",
       "        vertical-align: top;\n",
       "    }\n",
       "\n",
       "    .dataframe thead th {\n",
       "        text-align: right;\n",
       "    }\n",
       "</style>\n",
       "<table border=\"1\" class=\"dataframe\">\n",
       "  <thead>\n",
       "    <tr style=\"text-align: right;\">\n",
       "      <th></th>\n",
       "      <th>0</th>\n",
       "    </tr>\n",
       "  </thead>\n",
       "  <tbody>\n",
       "    <tr>\n",
       "      <th>0</th>\n",
       "      <td>yakov</td>\n",
       "    </tr>\n",
       "    <tr>\n",
       "      <th>1</th>\n",
       "      <td>moshe1</td>\n",
       "    </tr>\n",
       "    <tr>\n",
       "      <th>2</th>\n",
       "      <td>moshe1</td>\n",
       "    </tr>\n",
       "    <tr>\n",
       "      <th>3</th>\n",
       "      <td>amir1</td>\n",
       "    </tr>\n",
       "    <tr>\n",
       "      <th>4</th>\n",
       "      <td>avishai</td>\n",
       "    </tr>\n",
       "    <tr>\n",
       "      <th>...</th>\n",
       "      <td>...</td>\n",
       "    </tr>\n",
       "    <tr>\n",
       "      <th>200</th>\n",
       "      <td>shabtai</td>\n",
       "    </tr>\n",
       "    <tr>\n",
       "      <th>201</th>\n",
       "      <td>bruno</td>\n",
       "    </tr>\n",
       "    <tr>\n",
       "      <th>202</th>\n",
       "      <td>edelman</td>\n",
       "    </tr>\n",
       "    <tr>\n",
       "      <th>203</th>\n",
       "      <td>menashe</td>\n",
       "    </tr>\n",
       "    <tr>\n",
       "      <th>204</th>\n",
       "      <td>amit</td>\n",
       "    </tr>\n",
       "  </tbody>\n",
       "</table>\n",
       "<p>205 rows × 1 columns</p>\n",
       "</div>"
      ],
      "text/plain": [
       "           0\n",
       "0      yakov\n",
       "1     moshe1\n",
       "2     moshe1\n",
       "3      amir1\n",
       "4    avishai\n",
       "..       ...\n",
       "200  shabtai\n",
       "201    bruno\n",
       "202  edelman\n",
       "203  menashe\n",
       "204     amit\n",
       "\n",
       "[205 rows x 1 columns]"
      ]
     },
     "execution_count": 225,
     "metadata": {},
     "output_type": "execute_result"
    }
   ],
   "source": [
    "test_label"
   ]
  },
  {
   "cell_type": "code",
   "execution_count": 232,
   "metadata": {},
   "outputs": [
    {
     "data": {
      "text/plain": [
       "0.8975609756097561"
      ]
     },
     "execution_count": 232,
     "metadata": {},
     "output_type": "execute_result"
    }
   ],
   "source": [
    "np.sum(labels.iloc[pred,:].values == test_label.iloc[:,:].values)/205"
   ]
  },
  {
   "cell_type": "code",
   "execution_count": 274,
   "metadata": {},
   "outputs": [
    {
     "data": {
      "text/plain": [
       "[<matplotlib.lines.Line2D at 0x7f568407e9d0>]"
      ]
     },
     "execution_count": 274,
     "metadata": {},
     "output_type": "execute_result"
    },
    {
     "data": {
      "image/png": "[encoded data removed]",
      "text/plain": [
       "<Figure size 432x288 with 1 Axes>"
      ]
     },
     "metadata": {
      "needs_background": "light"
     },
     "output_type": "display_data"
    }
   ],
   "source": [
    "import matplotlib.pyplot as plt\n",
    "xlist = [600,700,800]\n",
    "ylist = [75.70,83.81,89.76]\n",
    "plt.plot(xlist,ylist)"
   ]
  },
  {
   "cell_type": "code",
   "execution_count": 275,
   "metadata": {},
   "outputs": [
    {
     "data": {
      "text/plain": [
       "[<matplotlib.lines.Line2D at 0x7f567788a280>]"
      ]
     },
     "execution_count": 275,
     "metadata": {},
     "output_type": "execute_result"
    },
    {
     "data": {
      "image/png": "[encoded data removed]",
      "text/plain": [
       "<Figure size 432x288 with 1 Axes>"
      ]
     },
     "metadata": {
      "needs_background": "light"
     },
     "output_type": "display_data"
    }
   ],
   "source": [
    "xlist = [600,700,800]\n",
    "ylist = [80.05,89.80,94.50]\n",
    "plt.plot(xlist,ylist)"
   ]
  },
  {
   "cell_type": "code",
   "execution_count": null,
   "metadata": {},
   "outputs": [],
   "source": []
  }
 ],
 "metadata": {
  "kernelspec": {
   "display_name": "Python 3",
   "language": "python",
   "name": "python3"
  },
  "language_info": {
   "codemirror_mode": {
    "name": "ipython",
    "version": 3
   },
   "file_extension": ".py",
   "mimetype": "text/x-python",
   "name": "python",
   "nbconvert_exporter": "python",
   "pygments_lexer": "ipython3",
   "version": "3.8.5"
  }
 },
 "nbformat": 4,
 "nbformat_minor": 4
}
